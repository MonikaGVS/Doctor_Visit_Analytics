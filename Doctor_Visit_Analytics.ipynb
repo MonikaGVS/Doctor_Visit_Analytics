{
  "cells": [
    {
      "cell_type": "markdown",
      "metadata": {
        "id": "view-in-github",
        "colab_type": "text"
      },
      "source": [
        "<a href=\"https://colab.research.google.com/github/MonikaGVS/Doctor_Visit_Analytics/blob/main/Doctor_Visit_Analytics.ipynb\" target=\"_parent\"><img src=\"https://colab.research.google.com/assets/colab-badge.svg\" alt=\"Open In Colab\"/></a>"
      ]
    },
    {
      "cell_type": "code",
      "execution_count": 3,
      "id": "f55e1226",
      "metadata": {
        "id": "f55e1226"
      },
      "outputs": [],
      "source": [
        "import matplotlib.pyplot as plt\n",
        "import pandas as pd\n",
        "import numpy as np\n",
        "import seaborn as sns"
      ]
    },
    {
      "cell_type": "markdown",
      "id": "28cb752f",
      "metadata": {
        "id": "28cb752f"
      },
      "source": [
        "# 1.Load the Dataset and Display first 15 rows"
      ]
    },
    {
      "cell_type": "code",
      "execution_count": 4,
      "id": "62acee6f",
      "metadata": {
        "colab": {
          "base_uri": "https://localhost:8080/"
        },
        "id": "62acee6f",
        "outputId": "f49b69e4-bcef-4354-ff9a-540546cc0a72"
      },
      "outputs": [
        {
          "output_type": "stream",
          "name": "stdout",
          "text": [
            "    Unnamed: 0  visits  gender   age  income  illness  reduced  health  \\\n",
            "0            1       1  female  0.19    0.55        1        4       1   \n",
            "1            2       1  female  0.19    0.45        1        2       1   \n",
            "2            3       1    male  0.19    0.90        3        0       0   \n",
            "3            4       1    male  0.19    0.15        1        0       0   \n",
            "4            5       1    male  0.19    0.45        2        5       1   \n",
            "5            6       1  female  0.19    0.35        5        1       9   \n",
            "6            7       1  female  0.19    0.55        4        0       2   \n",
            "7            8       1  female  0.19    0.15        3        0       6   \n",
            "8            9       1  female  0.19    0.65        2        0       5   \n",
            "9           10       1    male  0.19    0.15        1        0       0   \n",
            "10          11       1    male  0.19    0.45        1        0       0   \n",
            "11          12       1    male  0.19    0.25        2        0       2   \n",
            "12          13       2    male  0.19    0.55        3       13       1   \n",
            "13          14       1    male  0.19    0.45        4        7       6   \n",
            "14          15       1    male  0.19    0.25        3        1       0   \n",
            "\n",
            "   private freepoor freerepat nchronic lchronic  \n",
            "0      yes       no        no       no       no  \n",
            "1      yes       no        no       no       no  \n",
            "2       no       no        no       no       no  \n",
            "3       no       no        no       no       no  \n",
            "4       no       no        no      yes       no  \n",
            "5       no       no        no      yes       no  \n",
            "6       no       no        no       no       no  \n",
            "7       no       no        no       no       no  \n",
            "8      yes       no        no       no       no  \n",
            "9      yes       no        no       no       no  \n",
            "10      no       no        no       no       no  \n",
            "11      no       no       yes       no       no  \n",
            "12      no       no        no      yes       no  \n",
            "13      no       no        no      yes       no  \n",
            "14     yes       no        no      yes       no  \n"
          ]
        }
      ],
      "source": [
        "df=pd.read_excel(\"Doctor_Visit.xlsx\")\n",
        "print(df.head(15))"
      ]
    },
    {
      "cell_type": "markdown",
      "id": "1b50d1e2",
      "metadata": {
        "id": "1b50d1e2"
      },
      "source": [
        "# 2.Display complete information about the columns of the dataset such as Column name, Count, Data type and Overall usage."
      ]
    },
    {
      "cell_type": "code",
      "execution_count": 5,
      "id": "99fb4883",
      "metadata": {
        "colab": {
          "base_uri": "https://localhost:8080/"
        },
        "id": "99fb4883",
        "outputId": "6d86a9bc-95df-4c65-98c3-7100588c0f06"
      },
      "outputs": [
        {
          "output_type": "stream",
          "name": "stdout",
          "text": [
            "<class 'pandas.core.frame.DataFrame'>\n",
            "RangeIndex: 5190 entries, 0 to 5189\n",
            "Data columns (total 13 columns):\n",
            " #   Column      Non-Null Count  Dtype  \n",
            "---  ------      --------------  -----  \n",
            " 0   Unnamed: 0  5190 non-null   int64  \n",
            " 1   visits      5190 non-null   int64  \n",
            " 2   gender      5190 non-null   object \n",
            " 3   age         5190 non-null   float64\n",
            " 4   income      5190 non-null   float64\n",
            " 5   illness     5190 non-null   int64  \n",
            " 6   reduced     5190 non-null   int64  \n",
            " 7   health      5190 non-null   int64  \n",
            " 8   private     5190 non-null   object \n",
            " 9   freepoor    5190 non-null   object \n",
            " 10  freerepat   5190 non-null   object \n",
            " 11  nchronic    5190 non-null   object \n",
            " 12  lchronic    5190 non-null   object \n",
            "dtypes: float64(2), int64(5), object(6)\n",
            "memory usage: 527.2+ KB\n"
          ]
        }
      ],
      "source": [
        "df.info()"
      ]
    },
    {
      "cell_type": "markdown",
      "id": "df729859",
      "metadata": {
        "id": "df729859"
      },
      "source": [
        "# 3.Find out the toatal no.of people based on their count of illness"
      ]
    },
    {
      "cell_type": "code",
      "execution_count": 6,
      "id": "b00db880",
      "metadata": {
        "colab": {
          "base_uri": "https://localhost:8080/"
        },
        "id": "b00db880",
        "outputId": "d0c31507-628d-44bc-9289-f27bbb46c759"
      },
      "outputs": [
        {
          "output_type": "execute_result",
          "data": {
            "text/plain": [
              "1    1638\n",
              "0    1554\n",
              "2     946\n",
              "3     542\n",
              "4     274\n",
              "5     236\n",
              "Name: illness, dtype: int64"
            ]
          },
          "metadata": {},
          "execution_count": 6
        }
      ],
      "source": [
        "df[\"illness\"].value_counts()"
      ]
    },
    {
      "cell_type": "markdown",
      "id": "071ee27d",
      "metadata": {
        "id": "071ee27d"
      },
      "source": [
        "# 4.Visualize and Analyze the Maximum, Minimum and Medium income"
      ]
    },
    {
      "cell_type": "code",
      "execution_count": 7,
      "id": "4484111f",
      "metadata": {
        "colab": {
          "base_uri": "https://localhost:8080/",
          "height": 430
        },
        "id": "4484111f",
        "outputId": "b19d0d62-44bf-42f6-b25c-4eebc07a5332"
      },
      "outputs": [
        {
          "output_type": "display_data",
          "data": {
            "text/plain": [
              "<Figure size 640x480 with 1 Axes>"
            ],
            "image/png": "[encoded data removed]"
          },
          "metadata": {}
        }
      ],
      "source": [
        "y = list(df.income)\n",
        "plt.boxplot(y)\n",
        "plt.show()"
      ]
    },
    {
      "cell_type": "markdown",
      "id": "9b6bdf56",
      "metadata": {
        "id": "9b6bdf56"
      },
      "source": [
        "# 5.Find out the no.of days of reduced activity of male and female seperately due to illness"
      ]
    },
    {
      "cell_type": "code",
      "execution_count": 8,
      "id": "ed90e193",
      "metadata": {
        "colab": {
          "base_uri": "https://localhost:8080/",
          "height": 1000
        },
        "id": "ed90e193",
        "outputId": "251209c1-d930-490e-b115-f01433a1c9b6"
      },
      "outputs": [
        {
          "output_type": "stream",
          "name": "stderr",
          "text": [
            "<ipython-input-8-7beb99933e54>:1: FutureWarning: The default value of numeric_only in DataFrameGroupBy.mean is deprecated. In a future version, numeric_only will default to False. Either specify numeric_only or select only columns which should be valid for the function.\n",
            "  df.groupby(['gender','reduced']).mean()\n"
          ]
        },
        {
          "output_type": "execute_result",
          "data": {
            "text/plain": [
              "                 Unnamed: 0    visits       age    income   illness    health\n",
              "gender reduced                                                               \n",
              "female 0        2524.038512  0.229322  0.465755  0.482735  1.462144  1.115098\n",
              "       1        1985.768421  0.400000  0.325684  0.542105  2.242105  1.610526\n",
              "       2        1622.618182  0.672727  0.391455  0.560182  2.236364  1.781818\n",
              "       3         997.311111  1.333333  0.403111  0.516000  2.733333  1.733333\n",
              "       4        1237.740741  0.851852  0.458889  0.466667  2.222222  2.074074\n",
              "       5        1169.055556  1.444444  0.401667  0.614444  2.222222  2.500000\n",
              "       6        1382.545455  1.363636  0.426364  0.622727  2.363636  1.363636\n",
              "       7        1034.846154  1.384615  0.436154  0.473462  2.653846  2.230769\n",
              "       8        1883.090909  1.090909  0.471818  0.404545  2.181818  4.000000\n",
              "       9        1349.000000  0.500000  0.570000  0.825000  3.000000  1.000000\n",
              "       10       1099.428571  2.142857  0.512857  0.421429  2.571429  2.000000\n",
              "       12       1661.000000  2.000000  0.720000  0.250000  3.500000  5.500000\n",
              "       13        906.000000  4.000000  0.720000  0.300000  4.500000  3.500000\n",
              "       14       1392.112069  1.543103  0.551724  0.427586  2.534483  4.112069\n",
              "male   0        3008.911019  0.136007  0.344703  0.694398  1.099585  0.924850\n",
              "       1        2485.158537  0.304878  0.286220  0.676341  1.743902  1.256098\n",
              "       2        2007.679245  0.471698  0.343585  0.653019  2.358491  1.547170\n",
              "       3        1909.068966  0.724138  0.334138  0.741379  2.137931  1.689655\n",
              "       4        1424.000000  0.722222  0.309444  0.869444  2.055556  2.000000\n",
              "       5        1437.272727  1.136364  0.331818  0.570455  2.272727  2.818182\n",
              "       6         562.000000  0.833333  0.340000  0.591667  2.500000  2.000000\n",
              "       7        1716.750000  0.750000  0.314167  0.655000  2.583333  4.333333\n",
              "       8         680.666667  1.333333  0.365000  0.833333  2.666667  2.000000\n",
              "       9        1375.400000  2.200000  0.310000  0.392000  2.400000  2.000000\n",
              "       10       1543.200000  1.800000  0.480000  0.590000  2.600000  4.600000\n",
              "       11        355.500000  5.000000  0.320000  1.000000  1.500000  0.500000\n",
              "       12        781.500000  2.000000  0.370000  0.515000  1.500000  1.000000\n",
              "       13        508.666667  4.000000  0.510000  0.350000  3.333333  2.333333\n",
              "       14       1236.069444  1.555556  0.476806  0.598611  2.375000  3.527778"
            ],
            "text/html": [
              "\n",
              "\n",
              "  <div id=\"df-7c9941a2-7c43-4cdb-ab42-56c935e92285\">\n",
              "    <div class=\"colab-df-container\">\n",
              "      <div>\n",
              "<style scoped>\n",
              "    .dataframe tbody tr th:only-of-type {\n",
              "        vertical-align: middle;\n",
              "    }\n",
              "\n",
              "    .dataframe tbody tr th {\n",
              "        vertical-align: top;\n",
              "    }\n",
              "\n",
              "    .dataframe thead th {\n",
              "        text-align: right;\n",
              "    }\n",
              "</style>\n",
              "<table border=\"1\" class=\"dataframe\">\n",
              "  <thead>\n",
              "    <tr style=\"text-align: right;\">\n",
              "      <th></th>\n",
              "      <th></th>\n",
              "      <th>Unnamed: 0</th>\n",
              "      <th>visits</th>\n",
              "      <th>age</th>\n",
              "      <th>income</th>\n",
              "      <th>illness</th>\n",
              "      <th>health</th>\n",
              "    </tr>\n",
              "    <tr>\n",
              "      <th>gender</th>\n",
              "      <th>reduced</th>\n",
              "      <th></th>\n",
              "      <th></th>\n",
              "      <th></th>\n",
              "      <th></th>\n",
              "      <th></th>\n",
              "      <th></th>\n",
              "    </tr>\n",
              "  </thead>\n",
              "  <tbody>\n",
              "    <tr>\n",
              "      <th rowspan=\"14\" valign=\"top\">female</th>\n",
              "      <th>0</th>\n",
              "      <td>2524.038512</td>\n",
              "      <td>0.229322</td>\n",
              "      <td>0.465755</td>\n",
              "      <td>0.482735</td>\n",
              "      <td>1.462144</td>\n",
              "      <td>1.115098</td>\n",
              "    </tr>\n",
              "    <tr>\n",
              "      <th>1</th>\n",
              "      <td>1985.768421</td>\n",
              "      <td>0.400000</td>\n",
              "      <td>0.325684</td>\n",
              "      <td>0.542105</td>\n",
              "      <td>2.242105</td>\n",
              "      <td>1.610526</td>\n",
              "    </tr>\n",
              "    <tr>\n",
              "      <th>2</th>\n",
              "      <td>1622.618182</td>\n",
              "      <td>0.672727</td>\n",
              "      <td>0.391455</td>\n",
              "      <td>0.560182</td>\n",
              "      <td>2.236364</td>\n",
              "      <td>1.781818</td>\n",
              "    </tr>\n",
              "    <tr>\n",
              "      <th>3</th>\n",
              "      <td>997.311111</td>\n",
              "      <td>1.333333</td>\n",
              "      <td>0.403111</td>\n",
              "      <td>0.516000</td>\n",
              "      <td>2.733333</td>\n",
              "      <td>1.733333</td>\n",
              "    </tr>\n",
              "    <tr>\n",
              "      <th>4</th>\n",
              "      <td>1237.740741</td>\n",
              "      <td>0.851852</td>\n",
              "      <td>0.458889</td>\n",
              "      <td>0.466667</td>\n",
              "      <td>2.222222</td>\n",
              "      <td>2.074074</td>\n",
              "    </tr>\n",
              "    <tr>\n",
              "      <th>5</th>\n",
              "      <td>1169.055556</td>\n",
              "      <td>1.444444</td>\n",
              "      <td>0.401667</td>\n",
              "      <td>0.614444</td>\n",
              "      <td>2.222222</td>\n",
              "      <td>2.500000</td>\n",
              "    </tr>\n",
              "    <tr>\n",
              "      <th>6</th>\n",
              "      <td>1382.545455</td>\n",
              "      <td>1.363636</td>\n",
              "      <td>0.426364</td>\n",
              "      <td>0.622727</td>\n",
              "      <td>2.363636</td>\n",
              "      <td>1.363636</td>\n",
              "    </tr>\n",
              "    <tr>\n",
              "      <th>7</th>\n",
              "      <td>1034.846154</td>\n",
              "      <td>1.384615</td>\n",
              "      <td>0.436154</td>\n",
              "      <td>0.473462</td>\n",
              "      <td>2.653846</td>\n",
              "      <td>2.230769</td>\n",
              "    </tr>\n",
              "    <tr>\n",
              "      <th>8</th>\n",
              "      <td>1883.090909</td>\n",
              "      <td>1.090909</td>\n",
              "      <td>0.471818</td>\n",
              "      <td>0.404545</td>\n",
              "      <td>2.181818</td>\n",
              "      <td>4.000000</td>\n",
              "    </tr>\n",
              "    <tr>\n",
              "      <th>9</th>\n",
              "      <td>1349.000000</td>\n",
              "      <td>0.500000</td>\n",
              "      <td>0.570000</td>\n",
              "      <td>0.825000</td>\n",
              "      <td>3.000000</td>\n",
              "      <td>1.000000</td>\n",
              "    </tr>\n",
              "    <tr>\n",
              "      <th>10</th>\n",
              "      <td>1099.428571</td>\n",
              "      <td>2.142857</td>\n",
              "      <td>0.512857</td>\n",
              "      <td>0.421429</td>\n",
              "      <td>2.571429</td>\n",
              "      <td>2.000000</td>\n",
              "    </tr>\n",
              "    <tr>\n",
              "      <th>12</th>\n",
              "      <td>1661.000000</td>\n",
              "      <td>2.000000</td>\n",
              "      <td>0.720000</td>\n",
              "      <td>0.250000</td>\n",
              "      <td>3.500000</td>\n",
              "      <td>5.500000</td>\n",
              "    </tr>\n",
              "    <tr>\n",
              "      <th>13</th>\n",
              "      <td>906.000000</td>\n",
              "      <td>4.000000</td>\n",
              "      <td>0.720000</td>\n",
              "      <td>0.300000</td>\n",
              "      <td>4.500000</td>\n",
              "      <td>3.500000</td>\n",
              "    </tr>\n",
              "    <tr>\n",
              "      <th>14</th>\n",
              "      <td>1392.112069</td>\n",
              "      <td>1.543103</td>\n",
              "      <td>0.551724</td>\n",
              "      <td>0.427586</td>\n",
              "      <td>2.534483</td>\n",
              "      <td>4.112069</td>\n",
              "    </tr>\n",
              "    <tr>\n",
              "      <th rowspan=\"15\" valign=\"top\">male</th>\n",
              "      <th>0</th>\n",
              "      <td>3008.911019</td>\n",
              "      <td>0.136007</td>\n",
              "      <td>0.344703</td>\n",
              "      <td>0.694398</td>\n",
              "      <td>1.099585</td>\n",
              "      <td>0.924850</td>\n",
              "    </tr>\n",
              "    <tr>\n",
              "      <th>1</th>\n",
              "      <td>2485.158537</td>\n",
              "      <td>0.304878</td>\n",
              "      <td>0.286220</td>\n",
              "      <td>0.676341</td>\n",
              "      <td>1.743902</td>\n",
              "      <td>1.256098</td>\n",
              "    </tr>\n",
              "    <tr>\n",
              "      <th>2</th>\n",
              "      <td>2007.679245</td>\n",
              "      <td>0.471698</td>\n",
              "      <td>0.343585</td>\n",
              "      <td>0.653019</td>\n",
              "      <td>2.358491</td>\n",
              "      <td>1.547170</td>\n",
              "    </tr>\n",
              "    <tr>\n",
              "      <th>3</th>\n",
              "      <td>1909.068966</td>\n",
              "      <td>0.724138</td>\n",
              "      <td>0.334138</td>\n",
              "      <td>0.741379</td>\n",
              "      <td>2.137931</td>\n",
              "      <td>1.689655</td>\n",
              "    </tr>\n",
              "    <tr>\n",
              "      <th>4</th>\n",
              "      <td>1424.000000</td>\n",
              "      <td>0.722222</td>\n",
              "      <td>0.309444</td>\n",
              "      <td>0.869444</td>\n",
              "      <td>2.055556</td>\n",
              "      <td>2.000000</td>\n",
              "    </tr>\n",
              "    <tr>\n",
              "      <th>5</th>\n",
              "      <td>1437.272727</td>\n",
              "      <td>1.136364</td>\n",
              "      <td>0.331818</td>\n",
              "      <td>0.570455</td>\n",
              "      <td>2.272727</td>\n",
              "      <td>2.818182</td>\n",
              "    </tr>\n",
              "    <tr>\n",
              "      <th>6</th>\n",
              "      <td>562.000000</td>\n",
              "      <td>0.833333</td>\n",
              "      <td>0.340000</td>\n",
              "      <td>0.591667</td>\n",
              "      <td>2.500000</td>\n",
              "      <td>2.000000</td>\n",
              "    </tr>\n",
              "    <tr>\n",
              "      <th>7</th>\n",
              "      <td>1716.750000</td>\n",
              "      <td>0.750000</td>\n",
              "      <td>0.314167</td>\n",
              "      <td>0.655000</td>\n",
              "      <td>2.583333</td>\n",
              "      <td>4.333333</td>\n",
              "    </tr>\n",
              "    <tr>\n",
              "      <th>8</th>\n",
              "      <td>680.666667</td>\n",
              "      <td>1.333333</td>\n",
              "      <td>0.365000</td>\n",
              "      <td>0.833333</td>\n",
              "      <td>2.666667</td>\n",
              "      <td>2.000000</td>\n",
              "    </tr>\n",
              "    <tr>\n",
              "      <th>9</th>\n",
              "      <td>1375.400000</td>\n",
              "      <td>2.200000</td>\n",
              "      <td>0.310000</td>\n",
              "      <td>0.392000</td>\n",
              "      <td>2.400000</td>\n",
              "      <td>2.000000</td>\n",
              "    </tr>\n",
              "    <tr>\n",
              "      <th>10</th>\n",
              "      <td>1543.200000</td>\n",
              "      <td>1.800000</td>\n",
              "      <td>0.480000</td>\n",
              "      <td>0.590000</td>\n",
              "      <td>2.600000</td>\n",
              "      <td>4.600000</td>\n",
              "    </tr>\n",
              "    <tr>\n",
              "      <th>11</th>\n",
              "      <td>355.500000</td>\n",
              "      <td>5.000000</td>\n",
              "      <td>0.320000</td>\n",
              "      <td>1.000000</td>\n",
              "      <td>1.500000</td>\n",
              "      <td>0.500000</td>\n",
              "    </tr>\n",
              "    <tr>\n",
              "      <th>12</th>\n",
              "      <td>781.500000</td>\n",
              "      <td>2.000000</td>\n",
              "      <td>0.370000</td>\n",
              "      <td>0.515000</td>\n",
              "      <td>1.500000</td>\n",
              "      <td>1.000000</td>\n",
              "    </tr>\n",
              "    <tr>\n",
              "      <th>13</th>\n",
              "      <td>508.666667</td>\n",
              "      <td>4.000000</td>\n",
              "      <td>0.510000</td>\n",
              "      <td>0.350000</td>\n",
              "      <td>3.333333</td>\n",
              "      <td>2.333333</td>\n",
              "    </tr>\n",
              "    <tr>\n",
              "      <th>14</th>\n",
              "      <td>1236.069444</td>\n",
              "      <td>1.555556</td>\n",
              "      <td>0.476806</td>\n",
              "      <td>0.598611</td>\n",
              "      <td>2.375000</td>\n",
              "      <td>3.527778</td>\n",
              "    </tr>\n",
              "  </tbody>\n",
              "</table>\n",
              "</div>\n",
              "      <button class=\"colab-df-convert\" onclick=\"convertToInteractive('df-7c9941a2-7c43-4cdb-ab42-56c935e92285')\"\n",
              "              title=\"Convert this dataframe to an interactive table.\"\n",
              "              style=\"display:none;\">\n",
              "\n",
              "  <svg xmlns=\"http://www.w3.org/2000/svg\" height=\"24px\"viewBox=\"0 0 24 24\"\n",
              "       width=\"24px\">\n",
              "    <path d=\"M0 0h24v24H0V0z\" fill=\"none\"/>\n",
              "    <path d=\"M18.56 5.44l.94 2.06.94-2.06 2.06-.94-2.06-.94-.94-2.06-.94 2.06-2.06.94zm-11 1L8.5 8.5l.94-2.06 2.06-.94-2.06-.94L8.5 2.5l-.94 2.06-2.06.94zm10 10l.94 2.06.94-2.06 2.06-.94-2.06-.94-.94-2.06-.94 2.06-2.06.94z\"/><path d=\"M17.41 7.96l-1.37-1.37c-.4-.4-.92-.59-1.43-.59-.52 0-1.04.2-1.43.59L10.3 9.45l-7.72 7.72c-.78.78-.78 2.05 0 2.83L4 21.41c.39.39.9.59 1.41.59.51 0 1.02-.2 1.41-.59l7.78-7.78 2.81-2.81c.8-.78.8-2.07 0-2.86zM5.41 20L4 18.59l7.72-7.72 1.47 1.35L5.41 20z\"/>\n",
              "  </svg>\n",
              "      </button>\n",
              "\n",
              "\n",
              "\n",
              "    <div id=\"df-0d6c33c6-d6c8-4cc4-9c63-44d8b08fdad9\">\n",
              "      <button class=\"colab-df-quickchart\" onclick=\"quickchart('df-0d6c33c6-d6c8-4cc4-9c63-44d8b08fdad9')\"\n",
              "              title=\"Suggest charts.\"\n",
              "              style=\"display:none;\">\n",
              "\n",
              "<svg xmlns=\"http://www.w3.org/2000/svg\" height=\"24px\"viewBox=\"0 0 24 24\"\n",
              "     width=\"24px\">\n",
              "    <g>\n",
              "        <path d=\"M19 3H5c-1.1 0-2 .9-2 2v14c0 1.1.9 2 2 2h14c1.1 0 2-.9 2-2V5c0-1.1-.9-2-2-2zM9 17H7v-7h2v7zm4 0h-2V7h2v10zm4 0h-2v-4h2v4z\"/>\n",
              "    </g>\n",
              "</svg>\n",
              "      </button>\n",
              "    </div>\n",
              "\n",
              "<style>\n",
              "  .colab-df-quickchart {\n",
              "    background-color: #E8F0FE;\n",
              "    border: none;\n",
              "    border-radius: 50%;\n",
              "    cursor: pointer;\n",
              "    display: none;\n",
              "    fill: #1967D2;\n",
              "    height: 32px;\n",
              "    padding: 0 0 0 0;\n",
              "    width: 32px;\n",
              "  }\n",
              "\n",
              "  .colab-df-quickchart:hover {\n",
              "    background-color: #E2EBFA;\n",
              "    box-shadow: 0px 1px 2px rgba(60, 64, 67, 0.3), 0px 1px 3px 1px rgba(60, 64, 67, 0.15);\n",
              "    fill: #174EA6;\n",
              "  }\n",
              "\n",
              "  [theme=dark] .colab-df-quickchart {\n",
              "    background-color: #3B4455;\n",
              "    fill: #D2E3FC;\n",
              "  }\n",
              "\n",
              "  [theme=dark] .colab-df-quickchart:hover {\n",
              "    background-color: #434B5C;\n",
              "    box-shadow: 0px 1px 3px 1px rgba(0, 0, 0, 0.15);\n",
              "    filter: drop-shadow(0px 1px 2px rgba(0, 0, 0, 0.3));\n",
              "    fill: #FFFFFF;\n",
              "  }\n",
              "</style>\n",
              "\n",
              "    <script>\n",
              "      async function quickchart(key) {\n",
              "        const containerElement = document.querySelector('#' + key);\n",
              "        const charts = await google.colab.kernel.invokeFunction(\n",
              "            'suggestCharts', [key], {});\n",
              "      }\n",
              "    </script>\n",
              "\n",
              "      <script>\n",
              "\n",
              "function displayQuickchartButton(domScope) {\n",
              "  let quickchartButtonEl =\n",
              "    domScope.querySelector('#df-0d6c33c6-d6c8-4cc4-9c63-44d8b08fdad9 button.colab-df-quickchart');\n",
              "  quickchartButtonEl.style.display =\n",
              "    google.colab.kernel.accessAllowed ? 'block' : 'none';\n",
              "}\n",
              "\n",
              "        displayQuickchartButton(document);\n",
              "      </script>\n",
              "      <style>\n",
              "    .colab-df-container {\n",
              "      display:flex;\n",
              "      flex-wrap:wrap;\n",
              "      gap: 12px;\n",
              "    }\n",
              "\n",
              "    .colab-df-convert {\n",
              "      background-color: #E8F0FE;\n",
              "      border: none;\n",
              "      border-radius: 50%;\n",
              "      cursor: pointer;\n",
              "      display: none;\n",
              "      fill: #1967D2;\n",
              "      height: 32px;\n",
              "      padding: 0 0 0 0;\n",
              "      width: 32px;\n",
              "    }\n",
              "\n",
              "    .colab-df-convert:hover {\n",
              "      background-color: #E2EBFA;\n",
              "      box-shadow: 0px 1px 2px rgba(60, 64, 67, 0.3), 0px 1px 3px 1px rgba(60, 64, 67, 0.15);\n",
              "      fill: #174EA6;\n",
              "    }\n",
              "\n",
              "    [theme=dark] .colab-df-convert {\n",
              "      background-color: #3B4455;\n",
              "      fill: #D2E3FC;\n",
              "    }\n",
              "\n",
              "    [theme=dark] .colab-df-convert:hover {\n",
              "      background-color: #434B5C;\n",
              "      box-shadow: 0px 1px 3px 1px rgba(0, 0, 0, 0.15);\n",
              "      filter: drop-shadow(0px 1px 2px rgba(0, 0, 0, 0.3));\n",
              "      fill: #FFFFFF;\n",
              "    }\n",
              "  </style>\n",
              "\n",
              "      <script>\n",
              "        const buttonEl =\n",
              "          document.querySelector('#df-7c9941a2-7c43-4cdb-ab42-56c935e92285 button.colab-df-convert');\n",
              "        buttonEl.style.display =\n",
              "          google.colab.kernel.accessAllowed ? 'block' : 'none';\n",
              "\n",
              "        async function convertToInteractive(key) {\n",
              "          const element = document.querySelector('#df-7c9941a2-7c43-4cdb-ab42-56c935e92285');\n",
              "          const dataTable =\n",
              "            await google.colab.kernel.invokeFunction('convertToInteractive',\n",
              "                                                     [key], {});\n",
              "          if (!dataTable) return;\n",
              "\n",
              "          const docLinkHtml = 'Like what you see? Visit the ' +\n",
              "            '<a target=\"_blank\" href=https://colab.research.google.com/notebooks/data_table.ipynb>data table notebook</a>'\n",
              "            + ' to learn more about interactive tables.';\n",
              "          element.innerHTML = '';\n",
              "          dataTable['output_type'] = 'display_data';\n",
              "          await google.colab.output.renderOutput(dataTable, element);\n",
              "          const docLink = document.createElement('div');\n",
              "          docLink.innerHTML = docLinkHtml;\n",
              "          element.appendChild(docLink);\n",
              "        }\n",
              "      </script>\n",
              "    </div>\n",
              "  </div>\n"
            ]
          },
          "metadata": {},
          "execution_count": 8
        }
      ],
      "source": [
        "df.groupby(['gender','reduced']).mean()"
      ]
    },
    {
      "cell_type": "markdown",
      "id": "a754e6fe",
      "metadata": {
        "id": "a754e6fe"
      },
      "source": [
        "# 6.Visualize is there any missing values in the dataset based on a heat map"
      ]
    },
    {
      "cell_type": "code",
      "execution_count": 9,
      "id": "6b456702",
      "metadata": {
        "colab": {
          "base_uri": "https://localhost:8080/",
          "height": 525
        },
        "id": "6b456702",
        "outputId": "2c36c1be-01db-4fd5-f1bd-1a58e0de3879"
      },
      "outputs": [
        {
          "output_type": "execute_result",
          "data": {
            "text/plain": [
              "<Axes: >"
            ]
          },
          "metadata": {},
          "execution_count": 9
        },
        {
          "output_type": "display_data",
          "data": {
            "text/plain": [
              "<Figure size 640x480 with 1 Axes>"
            ],
            "image/png": "[encoded data removed]"
          },
          "metadata": {}
        }
      ],
      "source": [
        "sns.heatmap(df.isnull(),cbar=False,cmap='viridis')"
      ]
    },
    {
      "cell_type": "markdown",
      "id": "db47240b",
      "metadata": {
        "id": "db47240b"
      },
      "source": [
        "# 7.Find out the correlation between variables in the given dataset correlation between different variables"
      ]
    },
    {
      "cell_type": "code",
      "execution_count": 10,
      "id": "4ac1a4b5",
      "metadata": {
        "colab": {
          "base_uri": "https://localhost:8080/",
          "height": 908
        },
        "id": "4ac1a4b5",
        "outputId": "47e1037a-1ee8-42d8-82b6-020ef8f72930"
      },
      "outputs": [
        {
          "output_type": "stream",
          "name": "stderr",
          "text": [
            "<ipython-input-10-716fb1fd2b68>:2: FutureWarning: The default value of numeric_only in DataFrame.corr is deprecated. In a future version, it will default to False. Select only valid columns or specify the value of numeric_only to silence this warning.\n",
            "  sns.heatmap(df.corr(),cbar=True,cmap='Blues')\n"
          ]
        },
        {
          "output_type": "execute_result",
          "data": {
            "text/plain": [
              "<Axes: >"
            ]
          },
          "metadata": {},
          "execution_count": 10
        },
        {
          "output_type": "display_data",
          "data": {
            "text/plain": [
              "<Figure size 1000x1000 with 2 Axes>"
            ],
            "image/png": "[encoded data removed]"
          },
          "metadata": {}
        }
      ],
      "source": [
        "plt.figure(figsize=(10,10))\n",
        "sns.heatmap(df.corr(),cbar=True,cmap='Blues')"
      ]
    },
    {
      "cell_type": "markdown",
      "id": "a3c693e0",
      "metadata": {
        "id": "a3c693e0"
      },
      "source": [
        "# 8.Analyze how the income of the patient affects the no.of visits to the hospital"
      ]
    },
    {
      "cell_type": "code",
      "execution_count": 11,
      "id": "85fc96d7",
      "metadata": {
        "colab": {
          "base_uri": "https://localhost:8080/",
          "height": 867
        },
        "id": "85fc96d7",
        "outputId": "06a3f986-88d7-4e87-effd-909f1bf28075"
      },
      "outputs": [
        {
          "output_type": "execute_result",
          "data": {
            "text/plain": [
              "Text(0, 0.5, 'visits')"
            ]
          },
          "metadata": {},
          "execution_count": 11
        },
        {
          "output_type": "display_data",
          "data": {
            "text/plain": [
              "<Figure size 1000x1000 with 1 Axes>"
            ],
            "image/png": "[encoded data removed]"
          },
          "metadata": {}
        }
      ],
      "source": [
        "plt.figure(figsize=(10,10))\n",
        "plt.scatter(x='income',y='visits',data=df)\n",
        "plt.xlabel('income')\n",
        "plt.ylabel('visits')"
      ]
    },
    {
      "cell_type": "markdown",
      "id": "ec5a040d",
      "metadata": {
        "id": "ec5a040d"
      },
      "source": [
        "# 9.Count and visualize the number of males and females affected by illness"
      ]
    },
    {
      "cell_type": "code",
      "execution_count": 12,
      "id": "8e76d020",
      "metadata": {
        "colab": {
          "base_uri": "https://localhost:8080/",
          "height": 466
        },
        "id": "8e76d020",
        "outputId": "edd2d229-1b56-40f6-cade-18e8f88e6403"
      },
      "outputs": [
        {
          "output_type": "execute_result",
          "data": {
            "text/plain": [
              "<Axes: xlabel='gender', ylabel='Count'>"
            ]
          },
          "metadata": {},
          "execution_count": 12
        },
        {
          "output_type": "display_data",
          "data": {
            "text/plain": [
              "<Figure size 640x480 with 1 Axes>"
            ],
            "image/png": "[encoded data removed]"
          },
          "metadata": {}
        }
      ],
      "source": [
        "sns.histplot(df.gender,bins=2)"
      ]
    },
    {
      "cell_type": "markdown",
      "id": "a4adb1aa",
      "metadata": {
        "id": "a4adb1aa"
      },
      "source": [
        "# 10.Visualize the percentage of people getting govt health insurance due to low income, due to old age and also the percentage of the people having private health insurance."
      ]
    },
    {
      "cell_type": "code",
      "execution_count": 13,
      "id": "7616e627",
      "metadata": {
        "colab": {
          "base_uri": "https://localhost:8080/",
          "height": 1000
        },
        "id": "7616e627",
        "outputId": "58890317-c43a-4806-a758-b1bfcbbcc3c6"
      },
      "outputs": [
        {
          "output_type": "display_data",
          "data": {
            "text/plain": [
              "<Figure size 500x500 with 1 Axes>"
            ],
            "image/png": "[encoded data removed]"
          },
          "metadata": {}
        },
        {
          "output_type": "display_data",
          "data": {
            "text/plain": [
              "<Figure size 500x500 with 1 Axes>"
            ],
            "image/png": "[encoded data removed]"
          },
          "metadata": {}
        },
        {
          "output_type": "display_data",
          "data": {
            "text/plain": [
              "<Figure size 500x500 with 1 Axes>"
            ],
            "image/png": "[encoded data removed]"
          },
          "metadata": {}
        }
      ],
      "source": [
        "label=['yes','no']\n",
        "Y=df[df['freepoor']=='yes']\n",
        "N=df[df['freepoor']=='no']\n",
        "x=[Y.shape[0],N.shape[0]]\n",
        "plt.figure(figsize=(5,5))\n",
        "plt.pie(x,labels=label)\n",
        "plt.title(\"% of people getting govt health Insurance due to low income\")\n",
        "plt.show()\n",
        "label=['yes','no']\n",
        "Y=df[df['private']=='yes']\n",
        "N=df[df['private']=='no']\n",
        "x=[Y.shape[0],N.shape[0]]\n",
        "plt.figure(figsize=(5,5))\n",
        "plt.pie(x,labels=label)\n",
        "plt.title(\"% of people getting govt health Insurance due to low income\")\n",
        "plt.show()\n",
        "label=['yes','no']\n",
        "Y=df[df['freerepat']=='yes']\n",
        "N=df[df['freerepat']=='no']\n",
        "x=[Y.shape[0],N.shape[0]]\n",
        "plt.figure(figsize=(5,5))\n",
        "plt.pie(x,labels=label)\n",
        "plt.title(\"% of people getting govt health Insurance due to low income\")\n",
        "plt.show()"
      ]
    },
    {
      "cell_type": "markdown",
      "id": "93eb9eac",
      "metadata": {
        "id": "93eb9eac"
      },
      "source": [
        "# 11.Plot a horizontal bar chart to analyze the reduced days of activity due to illness based on gender."
      ]
    },
    {
      "cell_type": "code",
      "execution_count": 14,
      "id": "7bb828da",
      "metadata": {
        "colab": {
          "base_uri": "https://localhost:8080/",
          "height": 472
        },
        "id": "7bb828da",
        "outputId": "9034daa0-ba47-444a-db1d-4d654040a8f6"
      },
      "outputs": [
        {
          "output_type": "display_data",
          "data": {
            "text/plain": [
              "<Figure size 640x480 with 1 Axes>"
            ],
            "image/png": "[encoded data removed]"
          },
          "metadata": {}
        }
      ],
      "source": [
        "db=df.groupby('gender')['reduced'].sum().to_frame().reset_index()\n",
        "plt.barh(db['gender'],db['reduced'],color=['cornflowerblue','lightseagreen'])\n",
        "plt.title('Bar chart')\n",
        "plt.xlabel('gender')\n",
        "plt.ylabel('reduced activity')\n",
        "plt.show()"
      ]
    },
    {
      "cell_type": "markdown",
      "id": "de784ff8",
      "metadata": {
        "id": "de784ff8"
      },
      "source": [
        "# 12. Analyzing the income"
      ]
    },
    {
      "cell_type": "code",
      "execution_count": 15,
      "id": "c02b5ba0",
      "metadata": {
        "colab": {
          "base_uri": "https://localhost:8080/",
          "height": 423
        },
        "id": "c02b5ba0",
        "outputId": "e59af498-70b8-4953-b728-5f8de3e89f95"
      },
      "outputs": [
        {
          "output_type": "execute_result",
          "data": {
            "text/plain": [
              "      Unnamed: 0  visits  gender   age   income  illness  reduced  health  \\\n",
              "0              1       1  female  0.19   5500.0        1        4       1   \n",
              "1              2       1  female  0.19   4500.0        1        2       1   \n",
              "2              3       1    male  0.19   9000.0        3        0       0   \n",
              "3              4       1    male  0.19   1500.0        1        0       0   \n",
              "4              5       1    male  0.19   4500.0        2        5       1   \n",
              "...          ...     ...     ...   ...      ...      ...      ...     ...   \n",
              "5185        5186       0  female  0.22   5500.0        0        0       0   \n",
              "5186        5187       0    male  0.27  13000.0        0        0       1   \n",
              "5187        5188       0  female  0.37   2500.0        1        0       1   \n",
              "5188        5189       0  female  0.52   6500.0        0        0       0   \n",
              "5189        5190       0    male  0.72   2500.0        0        0       0   \n",
              "\n",
              "     private freepoor freerepat nchronic lchronic  \n",
              "0        yes       no        no       no       no  \n",
              "1        yes       no        no       no       no  \n",
              "2         no       no        no       no       no  \n",
              "3         no       no        no       no       no  \n",
              "4         no       no        no      yes       no  \n",
              "...      ...      ...       ...      ...      ...  \n",
              "5185      no       no        no       no       no  \n",
              "5186      no       no        no       no       no  \n",
              "5187      no       no       yes       no       no  \n",
              "5188      no       no        no       no       no  \n",
              "5189      no       no       yes       no       no  \n",
              "\n",
              "[5190 rows x 13 columns]"
            ],
            "text/html": [
              "\n",
              "\n",
              "  <div id=\"df-7f2740c8-8dc2-40ba-aa2e-4bd763c5f869\">\n",
              "    <div class=\"colab-df-container\">\n",
              "      <div>\n",
              "<style scoped>\n",
              "    .dataframe tbody tr th:only-of-type {\n",
              "        vertical-align: middle;\n",
              "    }\n",
              "\n",
              "    .dataframe tbody tr th {\n",
              "        vertical-align: top;\n",
              "    }\n",
              "\n",
              "    .dataframe thead th {\n",
              "        text-align: right;\n",
              "    }\n",
              "</style>\n",
              "<table border=\"1\" class=\"dataframe\">\n",
              "  <thead>\n",
              "    <tr style=\"text-align: right;\">\n",
              "      <th></th>\n",
              "      <th>Unnamed: 0</th>\n",
              "      <th>visits</th>\n",
              "      <th>gender</th>\n",
              "      <th>age</th>\n",
              "      <th>income</th>\n",
              "      <th>illness</th>\n",
              "      <th>reduced</th>\n",
              "      <th>health</th>\n",
              "      <th>private</th>\n",
              "      <th>freepoor</th>\n",
              "      <th>freerepat</th>\n",
              "      <th>nchronic</th>\n",
              "      <th>lchronic</th>\n",
              "    </tr>\n",
              "  </thead>\n",
              "  <tbody>\n",
              "    <tr>\n",
              "      <th>0</th>\n",
              "      <td>1</td>\n",
              "      <td>1</td>\n",
              "      <td>female</td>\n",
              "      <td>0.19</td>\n",
              "      <td>5500.0</td>\n",
              "      <td>1</td>\n",
              "      <td>4</td>\n",
              "      <td>1</td>\n",
              "      <td>yes</td>\n",
              "      <td>no</td>\n",
              "      <td>no</td>\n",
              "      <td>no</td>\n",
              "      <td>no</td>\n",
              "    </tr>\n",
              "    <tr>\n",
              "      <th>1</th>\n",
              "      <td>2</td>\n",
              "      <td>1</td>\n",
              "      <td>female</td>\n",
              "      <td>0.19</td>\n",
              "      <td>4500.0</td>\n",
              "      <td>1</td>\n",
              "      <td>2</td>\n",
              "      <td>1</td>\n",
              "      <td>yes</td>\n",
              "      <td>no</td>\n",
              "      <td>no</td>\n",
              "      <td>no</td>\n",
              "      <td>no</td>\n",
              "    </tr>\n",
              "    <tr>\n",
              "      <th>2</th>\n",
              "      <td>3</td>\n",
              "      <td>1</td>\n",
              "      <td>male</td>\n",
              "      <td>0.19</td>\n",
              "      <td>9000.0</td>\n",
              "      <td>3</td>\n",
              "      <td>0</td>\n",
              "      <td>0</td>\n",
              "      <td>no</td>\n",
              "      <td>no</td>\n",
              "      <td>no</td>\n",
              "      <td>no</td>\n",
              "      <td>no</td>\n",
              "    </tr>\n",
              "    <tr>\n",
              "      <th>3</th>\n",
              "      <td>4</td>\n",
              "      <td>1</td>\n",
              "      <td>male</td>\n",
              "      <td>0.19</td>\n",
              "      <td>1500.0</td>\n",
              "      <td>1</td>\n",
              "      <td>0</td>\n",
              "      <td>0</td>\n",
              "      <td>no</td>\n",
              "      <td>no</td>\n",
              "      <td>no</td>\n",
              "      <td>no</td>\n",
              "      <td>no</td>\n",
              "    </tr>\n",
              "    <tr>\n",
              "      <th>4</th>\n",
              "      <td>5</td>\n",
              "      <td>1</td>\n",
              "      <td>male</td>\n",
              "      <td>0.19</td>\n",
              "      <td>4500.0</td>\n",
              "      <td>2</td>\n",
              "      <td>5</td>\n",
              "      <td>1</td>\n",
              "      <td>no</td>\n",
              "      <td>no</td>\n",
              "      <td>no</td>\n",
              "      <td>yes</td>\n",
              "      <td>no</td>\n",
              "    </tr>\n",
              "    <tr>\n",
              "      <th>...</th>\n",
              "      <td>...</td>\n",
              "      <td>...</td>\n",
              "      <td>...</td>\n",
              "      <td>...</td>\n",
              "      <td>...</td>\n",
              "      <td>...</td>\n",
              "      <td>...</td>\n",
              "      <td>...</td>\n",
              "      <td>...</td>\n",
              "      <td>...</td>\n",
              "      <td>...</td>\n",
              "      <td>...</td>\n",
              "      <td>...</td>\n",
              "    </tr>\n",
              "    <tr>\n",
              "      <th>5185</th>\n",
              "      <td>5186</td>\n",
              "      <td>0</td>\n",
              "      <td>female</td>\n",
              "      <td>0.22</td>\n",
              "      <td>5500.0</td>\n",
              "      <td>0</td>\n",
              "      <td>0</td>\n",
              "      <td>0</td>\n",
              "      <td>no</td>\n",
              "      <td>no</td>\n",
              "      <td>no</td>\n",
              "      <td>no</td>\n",
              "      <td>no</td>\n",
              "    </tr>\n",
              "    <tr>\n",
              "      <th>5186</th>\n",
              "      <td>5187</td>\n",
              "      <td>0</td>\n",
              "      <td>male</td>\n",
              "      <td>0.27</td>\n",
              "      <td>13000.0</td>\n",
              "      <td>0</td>\n",
              "      <td>0</td>\n",
              "      <td>1</td>\n",
              "      <td>no</td>\n",
              "      <td>no</td>\n",
              "      <td>no</td>\n",
              "      <td>no</td>\n",
              "      <td>no</td>\n",
              "    </tr>\n",
              "    <tr>\n",
              "      <th>5187</th>\n",
              "      <td>5188</td>\n",
              "      <td>0</td>\n",
              "      <td>female</td>\n",
              "      <td>0.37</td>\n",
              "      <td>2500.0</td>\n",
              "      <td>1</td>\n",
              "      <td>0</td>\n",
              "      <td>1</td>\n",
              "      <td>no</td>\n",
              "      <td>no</td>\n",
              "      <td>yes</td>\n",
              "      <td>no</td>\n",
              "      <td>no</td>\n",
              "    </tr>\n",
              "    <tr>\n",
              "      <th>5188</th>\n",
              "      <td>5189</td>\n",
              "      <td>0</td>\n",
              "      <td>female</td>\n",
              "      <td>0.52</td>\n",
              "      <td>6500.0</td>\n",
              "      <td>0</td>\n",
              "      <td>0</td>\n",
              "      <td>0</td>\n",
              "      <td>no</td>\n",
              "      <td>no</td>\n",
              "      <td>no</td>\n",
              "      <td>no</td>\n",
              "      <td>no</td>\n",
              "    </tr>\n",
              "    <tr>\n",
              "      <th>5189</th>\n",
              "      <td>5190</td>\n",
              "      <td>0</td>\n",
              "      <td>male</td>\n",
              "      <td>0.72</td>\n",
              "      <td>2500.0</td>\n",
              "      <td>0</td>\n",
              "      <td>0</td>\n",
              "      <td>0</td>\n",
              "      <td>no</td>\n",
              "      <td>no</td>\n",
              "      <td>yes</td>\n",
              "      <td>no</td>\n",
              "      <td>no</td>\n",
              "    </tr>\n",
              "  </tbody>\n",
              "</table>\n",
              "<p>5190 rows × 13 columns</p>\n",
              "</div>\n",
              "      <button class=\"colab-df-convert\" onclick=\"convertToInteractive('df-7f2740c8-8dc2-40ba-aa2e-4bd763c5f869')\"\n",
              "              title=\"Convert this dataframe to an interactive table.\"\n",
              "              style=\"display:none;\">\n",
              "\n",
              "  <svg xmlns=\"http://www.w3.org/2000/svg\" height=\"24px\"viewBox=\"0 0 24 24\"\n",
              "       width=\"24px\">\n",
              "    <path d=\"M0 0h24v24H0V0z\" fill=\"none\"/>\n",
              "    <path d=\"M18.56 5.44l.94 2.06.94-2.06 2.06-.94-2.06-.94-.94-2.06-.94 2.06-2.06.94zm-11 1L8.5 8.5l.94-2.06 2.06-.94-2.06-.94L8.5 2.5l-.94 2.06-2.06.94zm10 10l.94 2.06.94-2.06 2.06-.94-2.06-.94-.94-2.06-.94 2.06-2.06.94z\"/><path d=\"M17.41 7.96l-1.37-1.37c-.4-.4-.92-.59-1.43-.59-.52 0-1.04.2-1.43.59L10.3 9.45l-7.72 7.72c-.78.78-.78 2.05 0 2.83L4 21.41c.39.39.9.59 1.41.59.51 0 1.02-.2 1.41-.59l7.78-7.78 2.81-2.81c.8-.78.8-2.07 0-2.86zM5.41 20L4 18.59l7.72-7.72 1.47 1.35L5.41 20z\"/>\n",
              "  </svg>\n",
              "      </button>\n",
              "\n",
              "\n",
              "\n",
              "    <div id=\"df-606378df-7126-4cb4-91eb-8fb2d942cc24\">\n",
              "      <button class=\"colab-df-quickchart\" onclick=\"quickchart('df-606378df-7126-4cb4-91eb-8fb2d942cc24')\"\n",
              "              title=\"Suggest charts.\"\n",
              "              style=\"display:none;\">\n",
              "\n",
              "<svg xmlns=\"http://www.w3.org/2000/svg\" height=\"24px\"viewBox=\"0 0 24 24\"\n",
              "     width=\"24px\">\n",
              "    <g>\n",
              "        <path d=\"M19 3H5c-1.1 0-2 .9-2 2v14c0 1.1.9 2 2 2h14c1.1 0 2-.9 2-2V5c0-1.1-.9-2-2-2zM9 17H7v-7h2v7zm4 0h-2V7h2v10zm4 0h-2v-4h2v4z\"/>\n",
              "    </g>\n",
              "</svg>\n",
              "      </button>\n",
              "    </div>\n",
              "\n",
              "<style>\n",
              "  .colab-df-quickchart {\n",
              "    background-color: #E8F0FE;\n",
              "    border: none;\n",
              "    border-radius: 50%;\n",
              "    cursor: pointer;\n",
              "    display: none;\n",
              "    fill: #1967D2;\n",
              "    height: 32px;\n",
              "    padding: 0 0 0 0;\n",
              "    width: 32px;\n",
              "  }\n",
              "\n",
              "  .colab-df-quickchart:hover {\n",
              "    background-color: #E2EBFA;\n",
              "    box-shadow: 0px 1px 2px rgba(60, 64, 67, 0.3), 0px 1px 3px 1px rgba(60, 64, 67, 0.15);\n",
              "    fill: #174EA6;\n",
              "  }\n",
              "\n",
              "  [theme=dark] .colab-df-quickchart {\n",
              "    background-color: #3B4455;\n",
              "    fill: #D2E3FC;\n",
              "  }\n",
              "\n",
              "  [theme=dark] .colab-df-quickchart:hover {\n",
              "    background-color: #434B5C;\n",
              "    box-shadow: 0px 1px 3px 1px rgba(0, 0, 0, 0.15);\n",
              "    filter: drop-shadow(0px 1px 2px rgba(0, 0, 0, 0.3));\n",
              "    fill: #FFFFFF;\n",
              "  }\n",
              "</style>\n",
              "\n",
              "    <script>\n",
              "      async function quickchart(key) {\n",
              "        const containerElement = document.querySelector('#' + key);\n",
              "        const charts = await google.colab.kernel.invokeFunction(\n",
              "            'suggestCharts', [key], {});\n",
              "      }\n",
              "    </script>\n",
              "\n",
              "      <script>\n",
              "\n",
              "function displayQuickchartButton(domScope) {\n",
              "  let quickchartButtonEl =\n",
              "    domScope.querySelector('#df-606378df-7126-4cb4-91eb-8fb2d942cc24 button.colab-df-quickchart');\n",
              "  quickchartButtonEl.style.display =\n",
              "    google.colab.kernel.accessAllowed ? 'block' : 'none';\n",
              "}\n",
              "\n",
              "        displayQuickchartButton(document);\n",
              "      </script>\n",
              "      <style>\n",
              "    .colab-df-container {\n",
              "      display:flex;\n",
              "      flex-wrap:wrap;\n",
              "      gap: 12px;\n",
              "    }\n",
              "\n",
              "    .colab-df-convert {\n",
              "      background-color: #E8F0FE;\n",
              "      border: none;\n",
              "      border-radius: 50%;\n",
              "      cursor: pointer;\n",
              "      display: none;\n",
              "      fill: #1967D2;\n",
              "      height: 32px;\n",
              "      padding: 0 0 0 0;\n",
              "      width: 32px;\n",
              "    }\n",
              "\n",
              "    .colab-df-convert:hover {\n",
              "      background-color: #E2EBFA;\n",
              "      box-shadow: 0px 1px 2px rgba(60, 64, 67, 0.3), 0px 1px 3px 1px rgba(60, 64, 67, 0.15);\n",
              "      fill: #174EA6;\n",
              "    }\n",
              "\n",
              "    [theme=dark] .colab-df-convert {\n",
              "      background-color: #3B4455;\n",
              "      fill: #D2E3FC;\n",
              "    }\n",
              "\n",
              "    [theme=dark] .colab-df-convert:hover {\n",
              "      background-color: #434B5C;\n",
              "      box-shadow: 0px 1px 3px 1px rgba(0, 0, 0, 0.15);\n",
              "      filter: drop-shadow(0px 1px 2px rgba(0, 0, 0, 0.3));\n",
              "      fill: #FFFFFF;\n",
              "    }\n",
              "  </style>\n",
              "\n",
              "      <script>\n",
              "        const buttonEl =\n",
              "          document.querySelector('#df-7f2740c8-8dc2-40ba-aa2e-4bd763c5f869 button.colab-df-convert');\n",
              "        buttonEl.style.display =\n",
              "          google.colab.kernel.accessAllowed ? 'block' : 'none';\n",
              "\n",
              "        async function convertToInteractive(key) {\n",
              "          const element = document.querySelector('#df-7f2740c8-8dc2-40ba-aa2e-4bd763c5f869');\n",
              "          const dataTable =\n",
              "            await google.colab.kernel.invokeFunction('convertToInteractive',\n",
              "                                                     [key], {});\n",
              "          if (!dataTable) return;\n",
              "\n",
              "          const docLinkHtml = 'Like what you see? Visit the ' +\n",
              "            '<a target=\"_blank\" href=https://colab.research.google.com/notebooks/data_table.ipynb>data table notebook</a>'\n",
              "            + ' to learn more about interactive tables.';\n",
              "          element.innerHTML = '';\n",
              "          dataTable['output_type'] = 'display_data';\n",
              "          await google.colab.output.renderOutput(dataTable, element);\n",
              "          const docLink = document.createElement('div');\n",
              "          docLink.innerHTML = docLinkHtml;\n",
              "          element.appendChild(docLink);\n",
              "        }\n",
              "      </script>\n",
              "    </div>\n",
              "  </div>\n"
            ]
          },
          "metadata": {},
          "execution_count": 15
        }
      ],
      "source": [
        "df[\"income\"]=df[\"income\"]*10000\n",
        "df"
      ]
    },
    {
      "cell_type": "markdown",
      "id": "b5c7f679",
      "metadata": {
        "id": "b5c7f679"
      },
      "source": [
        "# 13.Analyzing and Checking for duplicates"
      ]
    },
    {
      "cell_type": "code",
      "execution_count": 16,
      "id": "883fd60c",
      "metadata": {
        "colab": {
          "base_uri": "https://localhost:8080/"
        },
        "id": "883fd60c",
        "outputId": "4cc18a6e-d2ee-4f18-b123-68f2b18d9f33"
      },
      "outputs": [
        {
          "output_type": "execute_result",
          "data": {
            "text/plain": [
              "0"
            ]
          },
          "metadata": {},
          "execution_count": 16
        }
      ],
      "source": [
        "df.duplicated().sum()"
      ]
    },
    {
      "cell_type": "markdown",
      "id": "cc9730d8",
      "metadata": {
        "id": "cc9730d8"
      },
      "source": [
        "# 14.Exploring the unique values of each column"
      ]
    },
    {
      "cell_type": "code",
      "execution_count": 17,
      "id": "8390ea02",
      "metadata": {
        "colab": {
          "base_uri": "https://localhost:8080/"
        },
        "id": "8390ea02",
        "outputId": "8d27340e-7461-4596-89c3-b1968f6c98f7"
      },
      "outputs": [
        {
          "output_type": "execute_result",
          "data": {
            "text/plain": [
              "Unnamed: 0    5190\n",
              "visits          10\n",
              "gender           2\n",
              "age             12\n",
              "income          14\n",
              "illness          6\n",
              "reduced         15\n",
              "health          13\n",
              "private          2\n",
              "freepoor         2\n",
              "freerepat        2\n",
              "nchronic         2\n",
              "lchronic         2\n",
              "dtype: int64"
            ]
          },
          "metadata": {},
          "execution_count": 17
        }
      ],
      "source": [
        "df.nunique()"
      ]
    },
    {
      "cell_type": "markdown",
      "id": "f92cb5dd",
      "metadata": {
        "id": "f92cb5dd"
      },
      "source": [
        "# 15.Exploring Age, Gender column distribution"
      ]
    },
    {
      "cell_type": "code",
      "execution_count": 18,
      "id": "efb1a7bc",
      "metadata": {
        "colab": {
          "base_uri": "https://localhost:8080/"
        },
        "id": "efb1a7bc",
        "outputId": "0fbe383f-3e2f-4e05-9cba-d8b9fc53cbc9"
      },
      "outputs": [
        {
          "output_type": "execute_result",
          "data": {
            "text/plain": [
              "count    5190.000000\n",
              "mean        0.406385\n",
              "std         0.204782\n",
              "min         0.190000\n",
              "25%         0.220000\n",
              "50%         0.320000\n",
              "75%         0.620000\n",
              "max         0.720000\n",
              "Name: age, dtype: float64"
            ]
          },
          "metadata": {},
          "execution_count": 18
        }
      ],
      "source": [
        "df['age'].describe()"
      ]
    },
    {
      "cell_type": "code",
      "execution_count": 19,
      "id": "9908926c",
      "metadata": {
        "colab": {
          "base_uri": "https://localhost:8080/"
        },
        "id": "9908926c",
        "outputId": "e6d85b15-802b-44cc-fbfd-464c0cdfba31"
      },
      "outputs": [
        {
          "output_type": "execute_result",
          "data": {
            "text/plain": [
              "count       5190\n",
              "unique         2\n",
              "top       female\n",
              "freq        2702\n",
              "Name: gender, dtype: object"
            ]
          },
          "metadata": {},
          "execution_count": 19
        }
      ],
      "source": [
        "df['gender'].describe()"
      ]
    },
    {
      "cell_type": "markdown",
      "id": "e64aa387",
      "metadata": {
        "id": "e64aa387"
      },
      "source": [
        "# 16.Analyzing the Gender data"
      ]
    },
    {
      "cell_type": "code",
      "execution_count": 20,
      "id": "e020807d",
      "metadata": {
        "colab": {
          "base_uri": "https://localhost:8080/",
          "height": 472
        },
        "id": "e020807d",
        "outputId": "11212fe0-f0c0-44f3-f1ca-1fd7938e98aa"
      },
      "outputs": [
        {
          "output_type": "display_data",
          "data": {
            "text/plain": [
              "<Figure size 640x480 with 1 Axes>"
            ],
            "image/png": "[encoded data removed]"
          },
          "metadata": {}
        }
      ],
      "source": [
        "sns.countplot(x = 'gender', data = df)\n",
        "plt.title(\"Gender Distribution\")\n",
        "plt.show()"
      ]
    }
  ],
  "metadata": {
    "kernelspec": {
      "display_name": "Python 3 (ipykernel)",
      "language": "python",
      "name": "python3"
    },
    "language_info": {
      "codemirror_mode": {
        "name": "ipython",
        "version": 3
      },
      "file_extension": ".py",
      "mimetype": "text/x-python",
      "name": "python",
      "nbconvert_exporter": "python",
      "pygments_lexer": "ipython3",
      "version": "3.10.9"
    },
    "colab": {
      "provenance": [],
      "include_colab_link": true
    }
  },
  "nbformat": 4,
  "nbformat_minor": 5
}